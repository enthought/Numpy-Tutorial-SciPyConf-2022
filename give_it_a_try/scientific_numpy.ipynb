{
 "cells": [
  {
   "cell_type": "markdown",
   "id": "1ad4fd3a",
   "metadata": {},
   "source": [
    "# Numpy"
   ]
  },
  {
   "cell_type": "code",
   "execution_count": null,
   "id": "98a3c7ee",
   "metadata": {},
   "outputs": [],
   "source": [
    "import numpy as np"
   ]
  },
  {
   "cell_type": "markdown",
   "id": "af37d8fc",
   "metadata": {},
   "source": [
    "## Array creation and modification"
   ]
  },
  {
   "cell_type": "markdown",
   "id": "a3781a1e",
   "metadata": {
    "lang": "en"
   },
   "source": [
    "Create a simple array, check type, size, dimension, and modify/ append values."
   ]
  },
  {
   "cell_type": "markdown",
   "id": "ef1d4c1e",
   "metadata": {},
   "source": [
    "## Array slice"
   ]
  },
  {
   "cell_type": "markdown",
   "id": "87263ebe",
   "metadata": {
    "lang": "en"
   },
   "source": [
    "With the provided array below, extract the slices as indicated."
   ]
  },
  {
   "cell_type": "markdown",
   "id": "6d1c6f95",
   "metadata": {},
   "source": [
    "<img src=\"../assets/images/numpy_slice.png\" alt=\"numpy slice\" width=\"300\"/>"
   ]
  },
  {
   "cell_type": "code",
   "execution_count": null,
   "id": "ffedf2f8",
   "metadata": {},
   "outputs": [],
   "source": [
    "a = np.arange(25).reshape(5, 5)"
   ]
  },
  {
   "cell_type": "code",
   "execution_count": null,
   "id": "281d23cd",
   "metadata": {
    "canopy_exercise": {
     "cell_type": "student_solution"
    },
    "tags": []
   },
   "outputs": [],
   "source": [
    "# your code goes here"
   ]
  },
  {
   "cell_type": "markdown",
   "id": "6528e321",
   "metadata": {
    "canopy_exercise": {
     "cell_type": "solution_button"
    }
   },
   "source": [
    "<details>\n",
    "    <summary>Click here to see a <strong>solution</strong>.</summary>\n",
    "\n",
    "```python\n",
    "a[:,1::2] # red\n",
    "a[1::2, :3:2] # blue\n",
    "a[-1] # yellow\n",
    "```\n",
    "\n",
    "</details>"
   ]
  },
  {
   "cell_type": "markdown",
   "id": "57733f13",
   "metadata": {},
   "source": [
    "## Fancy indexing"
   ]
  },
  {
   "cell_type": "markdown",
   "id": "a81bdf55",
   "metadata": {
    "lang": "en"
   },
   "source": [
    "With the provided array blow,\n",
    "\n",
    "1. extract the elements indicated in blue.\n",
    "1. extract all the numbers divisible by 3 using a boolean mask."
   ]
  },
  {
   "cell_type": "markdown",
   "id": "9d0b5c2e",
   "metadata": {},
   "source": [
    "<img src='../assets/images/numpy_fancy_index.png' alt=\"numpy fancy index\" width=\"300\"/>"
   ]
  },
  {
   "cell_type": "code",
   "execution_count": null,
   "id": "8c51a275",
   "metadata": {},
   "outputs": [],
   "source": [
    "a = np.arange(25).reshape(5, 5)"
   ]
  },
  {
   "cell_type": "code",
   "execution_count": null,
   "id": "b821d13d",
   "metadata": {
    "canopy_exercise": {
     "cell_type": "student_solution"
    },
    "tags": []
   },
   "outputs": [],
   "source": [
    "# your code goes here"
   ]
  },
  {
   "cell_type": "markdown",
   "id": "18ffaaa8",
   "metadata": {
    "canopy_exercise": {
     "cell_type": "solution_button"
    }
   },
   "source": [
    "<details>\n",
    "    <summary>Click here to see a <strong>solution</strong>.</summary>\n",
    "\n",
    "```python\n",
    "a[[0, 1, 2 ,3], [3,1,0,4]]\n",
    "mask = a % 3 == 0\n",
    "a[mask]\n",
    "```\n",
    "\n",
    "</details>"
   ]
  },
  {
   "cell_type": "markdown",
   "id": "ecdb8d6c",
   "metadata": {},
   "source": [
    "## Array Methods"
   ]
  },
  {
   "cell_type": "markdown",
   "id": "d87c7b56",
   "metadata": {
    "lang": "en"
   },
   "source": [
    "Create the array below with\n",
    "\n",
    "1. The maximum of each row\n",
    "1. The mean of each column\n",
    "1. The position of the overall minimum"
   ]
  },
  {
   "cell_type": "markdown",
   "id": "443a6b46",
   "metadata": {},
   "source": [
    "<img src='../assets/images/numpy_array_methods.png' alt=\"numpy fancy index\" width=\"300\"/>"
   ]
  },
  {
   "cell_type": "code",
   "execution_count": null,
   "id": "e885e5e5",
   "metadata": {},
   "outputs": [],
   "source": [
    "a = np.arange(-15, 15).reshape(5, 6) ** 2"
   ]
  },
  {
   "cell_type": "code",
   "execution_count": null,
   "id": "bc3f7553",
   "metadata": {
    "canopy_exercise": {
     "cell_type": "student_solution"
    },
    "tags": []
   },
   "outputs": [],
   "source": [
    "# your code goes here"
   ]
  },
  {
   "cell_type": "markdown",
   "id": "e7bbac2c",
   "metadata": {
    "canopy_exercise": {
     "cell_type": "solution_button"
    }
   },
   "source": [
    "<details>\n",
    "    <summary>Click here to see a <strong>solution</strong>.</summary>\n",
    "\n",
    "```python\n",
    "a.max(axis=1)\n",
    "a.mean(axis=0)\n",
    "\n",
    "np.where(a==0)\n",
    "np.unravel_index(a.argmin(), a.shape)\n",
    "i_row = a.min(axis=1).argmin()\n",
    "i_col = a.min(axis=0).argmin()\n",
    "```\n",
    "\n",
    "</details>"
   ]
  },
  {
   "cell_type": "markdown",
   "id": "5360b0f6",
   "metadata": {},
   "source": [
    "## Reshaping Array"
   ]
  },
  {
   "cell_type": "markdown",
   "id": "b73a85a3",
   "metadata": {},
   "source": [
    "Give example for reshaping and flattening."
   ]
  }
 ],
 "metadata": {
  "canopy_exercise": {
   "__metadata_version__": 1
  },
  "jupytext": {
   "formats": "md:myst"
  },
  "kernelspec": {
   "display_name": "Python 3",
   "language": "python",
   "name": "python3"
  },
  "language_info": {
   "codemirror_mode": {
    "name": "ipython",
    "version": 3
   },
   "file_extension": ".py",
   "mimetype": "text/x-python",
   "name": "python",
   "nbconvert_exporter": "python",
   "pygments_lexer": "ipython3",
   "version": "3.6.13"
  }
 },
 "nbformat": 4,
 "nbformat_minor": 5
}
